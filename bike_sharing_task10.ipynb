{
 "cells": [
  {
   "cell_type": "code",
   "execution_count": 967,
   "metadata": {},
   "outputs": [],
   "source": [
    "import pymc as pm\n",
    "import arviz as az\n",
    "import numpy as np\n",
    "import matplotlib.pyplot as plt\n",
    "import pandas as pd\n",
    "import numpy as np\n"
   ]
  },
  {
   "cell_type": "code",
   "execution_count": 968,
   "metadata": {},
   "outputs": [
    {
     "name": "stdout",
     "output_type": "stream",
     "text": [
      "['SeoulBikeData.csv']\n"
     ]
    }
   ],
   "source": [
    "import os\n",
    "\n",
    "data_path = \"bike_sharing_dataset/\"\n",
    "files = os.listdir(data_path)\n",
    "print(files)"
   ]
  },
  {
   "cell_type": "code",
   "execution_count": 969,
   "metadata": {},
   "outputs": [
    {
     "name": "stdout",
     "output_type": "stream",
     "text": [
      "           0                  1     2               3            4   \\\n",
      "0        Date  Rented Bike Count  Hour  Temperature(C)  Humidity(%)   \n",
      "1  01/12/2017                254     0            -5.2           37   \n",
      "2  01/12/2017                204     1            -5.5           38   \n",
      "3  01/12/2017                173     2              -6           39   \n",
      "4  01/12/2017                107     3            -6.2           40   \n",
      "\n",
      "                 5                 6                         7   \\\n",
      "0  Wind speed (m/s)  Visibility (10m)  Dew point temperature(C)   \n",
      "1               2.2              2000                     -17.6   \n",
      "2               0.8              2000                     -17.6   \n",
      "3                 1              2000                     -17.7   \n",
      "4               0.9              2000                     -17.6   \n",
      "\n",
      "                        8             9              10       11           12  \\\n",
      "0  Solar Radiation (MJ/m2)  Rainfall(mm)  Snowfall (cm)  Seasons  Holiday Day   \n",
      "1                        0             0              0   Winter   No Holiday   \n",
      "2                        0             0              0   Winter   No Holiday   \n",
      "3                        0             0              0   Winter   No Holiday   \n",
      "4                        0             0              0   Winter   No Holiday   \n",
      "\n",
      "                13  \n",
      "0  Functioning Day  \n",
      "1              Yes  \n",
      "2              Yes  \n",
      "3              Yes  \n",
      "4              Yes  \n"
     ]
    }
   ],
   "source": [
    "df = pd.read_csv(data_path + \"SeoulBikeData.csv\", header=None)\n",
    "print(df.head())"
   ]
  },
  {
   "cell_type": "code",
   "execution_count": 970,
   "metadata": {},
   "outputs": [],
   "source": [
    "df.columns = df.iloc[0]\n",
    "df = df.drop(df.index[0])"
   ]
  },
  {
   "cell_type": "code",
   "execution_count": 971,
   "metadata": {},
   "outputs": [
    {
     "data": {
      "text/plain": [
       "1      2017-12-01\n",
       "2      2017-12-01\n",
       "3      2017-12-01\n",
       "4      2017-12-01\n",
       "5      2017-12-01\n",
       "          ...    \n",
       "8756   2018-11-30\n",
       "8757   2018-11-30\n",
       "8758   2018-11-30\n",
       "8759   2018-11-30\n",
       "8760   2018-11-30\n",
       "Name: Date, Length: 8760, dtype: datetime64[ns]"
      ]
     },
     "execution_count": 971,
     "metadata": {},
     "output_type": "execute_result"
    }
   ],
   "source": [
    "df['Date'] = pd.to_datetime(df['Date'],format='%d/%m/%Y') \n",
    "df['Date']"
   ]
  },
  {
   "cell_type": "code",
   "execution_count": 972,
   "metadata": {},
   "outputs": [],
   "source": [
    "df['Day']=df['Date'].dt.day\n",
    "df['Month']=df['Date'].dt.month\n",
    "df['Year']=df['Date'].dt.year\n",
    "df.drop(columns=['Date'], inplace=True)"
   ]
  },
  {
   "cell_type": "code",
   "execution_count": 973,
   "metadata": {},
   "outputs": [],
   "source": [
    "df['Seasons'] = df['Seasons'].replace({'Winter': 0, 'Autumn': 1, 'Spring': 2, 'Summer': 3})\n",
    "df['Holiday Day'] = df['Holiday Day'].replace({'No Holiday': 0, 'Holiday': 1})"
   ]
  },
  {
   "cell_type": "code",
   "execution_count": 974,
   "metadata": {},
   "outputs": [],
   "source": [
    "df = df[df['Functioning Day'] != 'No']\n",
    "df.drop(columns=['Functioning Day'], inplace=True)"
   ]
  },
  {
   "cell_type": "code",
   "execution_count": 975,
   "metadata": {},
   "outputs": [],
   "source": [
    "X = df.astype(float)"
   ]
  },
  {
   "cell_type": "code",
   "execution_count": 976,
   "metadata": {},
   "outputs": [
    {
     "data": {
      "text/html": [
       "<div>\n",
       "<style scoped>\n",
       "    .dataframe tbody tr th:only-of-type {\n",
       "        vertical-align: middle;\n",
       "    }\n",
       "\n",
       "    .dataframe tbody tr th {\n",
       "        vertical-align: top;\n",
       "    }\n",
       "\n",
       "    .dataframe thead th {\n",
       "        text-align: right;\n",
       "    }\n",
       "</style>\n",
       "<table border=\"1\" class=\"dataframe\">\n",
       "  <thead>\n",
       "    <tr style=\"text-align: right;\">\n",
       "      <th></th>\n",
       "      <th>Variable</th>\n",
       "      <th>VIF</th>\n",
       "    </tr>\n",
       "  </thead>\n",
       "  <tbody>\n",
       "    <tr>\n",
       "      <th>0</th>\n",
       "      <td>Rented Bike Count</td>\n",
       "      <td>4.771755</td>\n",
       "    </tr>\n",
       "    <tr>\n",
       "      <th>1</th>\n",
       "      <td>Hour</td>\n",
       "      <td>5.265818</td>\n",
       "    </tr>\n",
       "    <tr>\n",
       "      <th>2</th>\n",
       "      <td>Temperature(C)</td>\n",
       "      <td>189.469374</td>\n",
       "    </tr>\n",
       "    <tr>\n",
       "      <th>3</th>\n",
       "      <td>Humidity(%)</td>\n",
       "      <td>185.274681</td>\n",
       "    </tr>\n",
       "    <tr>\n",
       "      <th>4</th>\n",
       "      <td>Wind speed (m/s)</td>\n",
       "      <td>4.909069</td>\n",
       "    </tr>\n",
       "    <tr>\n",
       "      <th>5</th>\n",
       "      <td>Visibility (10m)</td>\n",
       "      <td>10.895715</td>\n",
       "    </tr>\n",
       "    <tr>\n",
       "      <th>6</th>\n",
       "      <td>Dew point temperature(C)</td>\n",
       "      <td>127.120177</td>\n",
       "    </tr>\n",
       "    <tr>\n",
       "      <th>7</th>\n",
       "      <td>Solar Radiation (MJ/m2)</td>\n",
       "      <td>2.928755</td>\n",
       "    </tr>\n",
       "    <tr>\n",
       "      <th>8</th>\n",
       "      <td>Rainfall(mm)</td>\n",
       "      <td>1.129296</td>\n",
       "    </tr>\n",
       "    <tr>\n",
       "      <th>9</th>\n",
       "      <td>Snowfall (cm)</td>\n",
       "      <td>1.160523</td>\n",
       "    </tr>\n",
       "    <tr>\n",
       "      <th>10</th>\n",
       "      <td>Seasons</td>\n",
       "      <td>10.329564</td>\n",
       "    </tr>\n",
       "    <tr>\n",
       "      <th>11</th>\n",
       "      <td>Holiday Day</td>\n",
       "      <td>1.077846</td>\n",
       "    </tr>\n",
       "    <tr>\n",
       "      <th>12</th>\n",
       "      <td>Day</td>\n",
       "      <td>4.477016</td>\n",
       "    </tr>\n",
       "    <tr>\n",
       "      <th>13</th>\n",
       "      <td>Month</td>\n",
       "      <td>5.707757</td>\n",
       "    </tr>\n",
       "    <tr>\n",
       "      <th>14</th>\n",
       "      <td>Year</td>\n",
       "      <td>403.662785</td>\n",
       "    </tr>\n",
       "  </tbody>\n",
       "</table>\n",
       "</div>"
      ],
      "text/plain": [
       "                    Variable         VIF\n",
       "0          Rented Bike Count    4.771755\n",
       "1                       Hour    5.265818\n",
       "2             Temperature(C)  189.469374\n",
       "3                Humidity(%)  185.274681\n",
       "4           Wind speed (m/s)    4.909069\n",
       "5           Visibility (10m)   10.895715\n",
       "6   Dew point temperature(C)  127.120177\n",
       "7    Solar Radiation (MJ/m2)    2.928755\n",
       "8               Rainfall(mm)    1.129296\n",
       "9              Snowfall (cm)    1.160523\n",
       "10                   Seasons   10.329564\n",
       "11               Holiday Day    1.077846\n",
       "12                       Day    4.477016\n",
       "13                     Month    5.707757\n",
       "14                      Year  403.662785"
      ]
     },
     "execution_count": 976,
     "metadata": {},
     "output_type": "execute_result"
    }
   ],
   "source": [
    "from statsmodels.stats.outliers_influence import variance_inflation_factor\n",
    "vif = pd.DataFrame()\n",
    "vif[\"Variable\"] = X.columns.values\n",
    "vif[\"VIF\"] = [variance_inflation_factor(X.values, i) for i in range(len(X.columns.values))]\n",
    "vif"
   ]
  },
  {
   "cell_type": "code",
   "execution_count": 977,
   "metadata": {},
   "outputs": [],
   "source": [
    "df.drop(columns=['Dew point temperature(C)',], inplace=True)"
   ]
  },
  {
   "cell_type": "code",
   "execution_count": 979,
   "metadata": {},
   "outputs": [],
   "source": [
    "X = df.astype(float)\n",
    "y = X.pop('Rented Bike Count')\n",
    "\n",
    "# standardize the features\n",
    "X -= X.mean()\n",
    "X /= X.std()"
   ]
  },
  {
   "cell_type": "code",
   "execution_count": 980,
   "metadata": {},
   "outputs": [
    {
     "data": {
      "text/plain": [
       "array(['Hour', 'Temperature(C)', 'Humidity(%)', 'Wind speed (m/s)',\n",
       "       'Visibility (10m)', 'Solar Radiation (MJ/m2)', 'Rainfall(mm)',\n",
       "       'Snowfall (cm)', 'Seasons', 'Holiday Day', 'Day', 'Month', 'Year'],\n",
       "      dtype=object)"
      ]
     },
     "execution_count": 980,
     "metadata": {},
     "output_type": "execute_result"
    }
   ],
   "source": [
    "X.columns.values"
   ]
  },
  {
   "cell_type": "markdown",
   "metadata": {},
   "source": [
    "Trying to find distribution of values for estimated parameters"
   ]
  },
  {
   "cell_type": "code",
   "execution_count": 981,
   "metadata": {},
   "outputs": [],
   "source": [
    "predictors = X.columns.values\n",
    "coords = {\"predictors\": predictors}\n",
    "with pm.Model(coords=coords) as model:\n",
    "    # sd of the error term is 20 and sigma cannot be negative\n",
    "    sigma = pm.HalfNormal('sigma', sigma=20) \n",
    "    alpha = pm.Normal('alpha', mu=0, sigma=20) \n",
    "    beta = pm.Normal('beta', mu=0, sigma=20, dims='predictors') # coefficients for each predictor\n",
    "    \n",
    "    # Expected value: lin comb of coeffs and predictors\n",
    "    mu = pm.math.dot(beta, X.T) + alpha \n",
    "    \n",
    "    # Likelihood (sampling distribution) of observations\n",
    "    likelihood = pm.Normal('y', mu, sigma, observed=y)"
   ]
  },
  {
   "cell_type": "code",
   "execution_count": 982,
   "metadata": {},
   "outputs": [
    {
     "data": {
      "image/svg+xml": [
       "<?xml version=\"1.0\" encoding=\"UTF-8\" standalone=\"no\"?>\n",
       "<!DOCTYPE svg PUBLIC \"-//W3C//DTD SVG 1.1//EN\"\n",
       " \"http://www.w3.org/Graphics/SVG/1.1/DTD/svg11.dtd\">\n",
       "<!-- Generated by graphviz version 9.0.0 (0)\n",
       " -->\n",
       "<!-- Pages: 1 -->\n",
       "<svg width=\"340pt\" height=\"276pt\"\n",
       " viewBox=\"0.00 0.00 339.98 275.63\" xmlns=\"http://www.w3.org/2000/svg\" xmlns:xlink=\"http://www.w3.org/1999/xlink\">\n",
       "<g id=\"graph0\" class=\"graph\" transform=\"scale(1 1) rotate(0) translate(4 271.63)\">\n",
       "<polygon fill=\"white\" stroke=\"none\" points=\"-4,4 -4,-271.63 335.98,-271.63 335.98,4 -4,4\"/>\n",
       "<g id=\"clust2\" class=\"cluster\">\n",
       "<title>cluster8465</title>\n",
       "<path fill=\"none\" stroke=\"black\" d=\"M137.98,-8C137.98,-8 211.98,-8 211.98,-8 217.98,-8 223.98,-14 223.98,-20 223.98,-20 223.98,-117.82 223.98,-117.82 223.98,-123.82 217.98,-129.82 211.98,-129.82 211.98,-129.82 137.98,-129.82 137.98,-129.82 131.98,-129.82 125.98,-123.82 125.98,-117.82 125.98,-117.82 125.98,-20 125.98,-20 125.98,-14 131.98,-8 137.98,-8\"/>\n",
       "<text text-anchor=\"middle\" x=\"202.48\" y=\"-15.2\" font-family=\"Times New Roman,serif\" font-size=\"14.00\">8465</text>\n",
       "</g>\n",
       "<g id=\"clust1\" class=\"cluster\">\n",
       "<title>clusterpredictors (13)</title>\n",
       "<path fill=\"none\" stroke=\"black\" d=\"M237.98,-137.82C237.98,-137.82 311.98,-137.82 311.98,-137.82 317.98,-137.82 323.98,-143.82 323.98,-149.82 323.98,-149.82 323.98,-247.63 323.98,-247.63 323.98,-253.63 317.98,-259.63 311.98,-259.63 311.98,-259.63 237.98,-259.63 237.98,-259.63 231.98,-259.63 225.98,-253.63 225.98,-247.63 225.98,-247.63 225.98,-149.82 225.98,-149.82 225.98,-143.82 231.98,-137.82 237.98,-137.82\"/>\n",
       "<text text-anchor=\"middle\" x=\"275.86\" y=\"-145.02\" font-family=\"Times New Roman,serif\" font-size=\"14.00\">predictors (13)</text>\n",
       "</g>\n",
       "<!-- sigma -->\n",
       "<g id=\"node1\" class=\"node\">\n",
       "<title>sigma</title>\n",
       "<ellipse fill=\"none\" stroke=\"black\" cx=\"57.98\" cy=\"-210.98\" rx=\"57.98\" ry=\"40.66\"/>\n",
       "<text text-anchor=\"middle\" x=\"57.98\" y=\"-222.43\" font-family=\"Times New Roman,serif\" font-size=\"14.00\">sigma</text>\n",
       "<text text-anchor=\"middle\" x=\"57.98\" y=\"-205.93\" font-family=\"Times New Roman,serif\" font-size=\"14.00\">~</text>\n",
       "<text text-anchor=\"middle\" x=\"57.98\" y=\"-189.43\" font-family=\"Times New Roman,serif\" font-size=\"14.00\">HalfNormal</text>\n",
       "</g>\n",
       "<!-- y -->\n",
       "<g id=\"node4\" class=\"node\">\n",
       "<title>y</title>\n",
       "<ellipse fill=\"lightgrey\" stroke=\"black\" cx=\"174.98\" cy=\"-81.16\" rx=\"41.01\" ry=\"40.66\"/>\n",
       "<text text-anchor=\"middle\" x=\"174.98\" y=\"-92.61\" font-family=\"Times New Roman,serif\" font-size=\"14.00\">y</text>\n",
       "<text text-anchor=\"middle\" x=\"174.98\" y=\"-76.11\" font-family=\"Times New Roman,serif\" font-size=\"14.00\">~</text>\n",
       "<text text-anchor=\"middle\" x=\"174.98\" y=\"-59.61\" font-family=\"Times New Roman,serif\" font-size=\"14.00\">Normal</text>\n",
       "</g>\n",
       "<!-- sigma&#45;&gt;y -->\n",
       "<g id=\"edge1\" class=\"edge\">\n",
       "<title>sigma&#45;&gt;y</title>\n",
       "<path fill=\"none\" stroke=\"black\" d=\"M88.72,-176.39C104.43,-159.23 123.62,-138.27 139.91,-120.48\"/>\n",
       "<polygon fill=\"black\" stroke=\"black\" points=\"142.45,-122.89 146.62,-113.15 137.28,-118.16 142.45,-122.89\"/>\n",
       "</g>\n",
       "<!-- alpha -->\n",
       "<g id=\"node2\" class=\"node\">\n",
       "<title>alpha</title>\n",
       "<ellipse fill=\"none\" stroke=\"black\" cx=\"174.98\" cy=\"-210.98\" rx=\"41.01\" ry=\"40.66\"/>\n",
       "<text text-anchor=\"middle\" x=\"174.98\" y=\"-222.43\" font-family=\"Times New Roman,serif\" font-size=\"14.00\">alpha</text>\n",
       "<text text-anchor=\"middle\" x=\"174.98\" y=\"-205.93\" font-family=\"Times New Roman,serif\" font-size=\"14.00\">~</text>\n",
       "<text text-anchor=\"middle\" x=\"174.98\" y=\"-189.43\" font-family=\"Times New Roman,serif\" font-size=\"14.00\">Normal</text>\n",
       "</g>\n",
       "<!-- alpha&#45;&gt;y -->\n",
       "<g id=\"edge2\" class=\"edge\">\n",
       "<title>alpha&#45;&gt;y</title>\n",
       "<path fill=\"none\" stroke=\"black\" d=\"M174.98,-169.88C174.98,-158.34 174.98,-145.6 174.98,-133.48\"/>\n",
       "<polygon fill=\"black\" stroke=\"black\" points=\"178.48,-133.62 174.98,-123.62 171.48,-133.62 178.48,-133.62\"/>\n",
       "</g>\n",
       "<!-- beta -->\n",
       "<g id=\"node3\" class=\"node\">\n",
       "<title>beta</title>\n",
       "<ellipse fill=\"none\" stroke=\"black\" cx=\"274.98\" cy=\"-210.98\" rx=\"41.01\" ry=\"40.66\"/>\n",
       "<text text-anchor=\"middle\" x=\"274.98\" y=\"-222.43\" font-family=\"Times New Roman,serif\" font-size=\"14.00\">beta</text>\n",
       "<text text-anchor=\"middle\" x=\"274.98\" y=\"-205.93\" font-family=\"Times New Roman,serif\" font-size=\"14.00\">~</text>\n",
       "<text text-anchor=\"middle\" x=\"274.98\" y=\"-189.43\" font-family=\"Times New Roman,serif\" font-size=\"14.00\">Normal</text>\n",
       "</g>\n",
       "<!-- beta&#45;&gt;y -->\n",
       "<g id=\"edge3\" class=\"edge\">\n",
       "<title>beta&#45;&gt;y</title>\n",
       "<path fill=\"none\" stroke=\"black\" d=\"M252.94,-176.29C244.52,-163.95 234.62,-150.01 224.98,-137.82 220.33,-131.93 215.23,-125.86 210.12,-120\"/>\n",
       "<polygon fill=\"black\" stroke=\"black\" points=\"212.93,-117.9 203.68,-112.73 207.69,-122.54 212.93,-117.9\"/>\n",
       "</g>\n",
       "</g>\n",
       "</svg>\n"
      ],
      "text/plain": [
       "<graphviz.graphs.Digraph at 0x22ec6677e50>"
      ]
     },
     "execution_count": 982,
     "metadata": {},
     "output_type": "execute_result"
    }
   ],
   "source": [
    "pm.model_to_graphviz(model)"
   ]
  },
  {
   "cell_type": "code",
   "execution_count": 983,
   "metadata": {},
   "outputs": [
    {
     "name": "stderr",
     "output_type": "stream",
     "text": [
      "Auto-assigning NUTS sampler...\n",
      "Initializing NUTS using jitter+adapt_diag...\n",
      "Multiprocess sampling (4 chains in 4 jobs)\n",
      "NUTS: [sigma, alpha, beta]\n"
     ]
    },
    {
     "data": {
      "text/html": [
       "\n",
       "<style>\n",
       "    /* Turns off some styling */\n",
       "    progress {\n",
       "        /* gets rid of default border in Firefox and Opera. */\n",
       "        border: none;\n",
       "        /* Needs to be in here for Safari polyfill so background images work as expected. */\n",
       "        background-size: auto;\n",
       "    }\n",
       "    progress:not([value]), progress:not([value])::-webkit-progress-bar {\n",
       "        background: repeating-linear-gradient(45deg, #7e7e7e, #7e7e7e 10px, #5c5c5c 10px, #5c5c5c 20px);\n",
       "    }\n",
       "    .progress-bar-interrupted, .progress-bar-interrupted::-webkit-progress-bar {\n",
       "        background: #F44336;\n",
       "    }\n",
       "</style>\n"
      ],
      "text/plain": [
       "<IPython.core.display.HTML object>"
      ]
     },
     "metadata": {},
     "output_type": "display_data"
    },
    {
     "data": {
      "text/html": [
       "\n",
       "    <div>\n",
       "      <progress value='8000' class='' max='8000' style='width:300px; height:20px; vertical-align: middle;'></progress>\n",
       "      100.00% [8000/8000 00:13&lt;00:00 Sampling 4 chains, 0 divergences]\n",
       "    </div>\n",
       "    "
      ],
      "text/plain": [
       "<IPython.core.display.HTML object>"
      ]
     },
     "metadata": {},
     "output_type": "display_data"
    },
    {
     "name": "stderr",
     "output_type": "stream",
     "text": [
      "Sampling 4 chains for 1_000 tune and 1_000 draw iterations (4_000 + 4_000 draws total) took 32 seconds.\n"
     ]
    }
   ],
   "source": [
    "with model:\n",
    "    idata = pm.sample(1000, random_seed=42, progressbar=True, cores=4)"
   ]
  },
  {
   "cell_type": "code",
   "execution_count": 984,
   "metadata": {},
   "outputs": [
    {
     "data": {
      "text/html": [
       "<div>\n",
       "<style scoped>\n",
       "    .dataframe tbody tr th:only-of-type {\n",
       "        vertical-align: middle;\n",
       "    }\n",
       "\n",
       "    .dataframe tbody tr th {\n",
       "        vertical-align: top;\n",
       "    }\n",
       "\n",
       "    .dataframe thead th {\n",
       "        text-align: right;\n",
       "    }\n",
       "</style>\n",
       "<table border=\"1\" class=\"dataframe\">\n",
       "  <thead>\n",
       "    <tr style=\"text-align: right;\">\n",
       "      <th></th>\n",
       "      <th>mean</th>\n",
       "      <th>sd</th>\n",
       "      <th>hdi_3%</th>\n",
       "      <th>hdi_97%</th>\n",
       "      <th>mcse_mean</th>\n",
       "      <th>mcse_sd</th>\n",
       "      <th>ess_bulk</th>\n",
       "      <th>ess_tail</th>\n",
       "      <th>r_hat</th>\n",
       "    </tr>\n",
       "  </thead>\n",
       "  <tbody>\n",
       "    <tr>\n",
       "      <th>alpha</th>\n",
       "      <td>690.95</td>\n",
       "      <td>4.61</td>\n",
       "      <td>682.69</td>\n",
       "      <td>699.94</td>\n",
       "      <td>0.06</td>\n",
       "      <td>0.04</td>\n",
       "      <td>6457.29</td>\n",
       "      <td>3162.44</td>\n",
       "      <td>1.0</td>\n",
       "    </tr>\n",
       "    <tr>\n",
       "      <th>beta[Hour]</th>\n",
       "      <td>196.86</td>\n",
       "      <td>4.89</td>\n",
       "      <td>187.64</td>\n",
       "      <td>205.87</td>\n",
       "      <td>0.07</td>\n",
       "      <td>0.05</td>\n",
       "      <td>5266.18</td>\n",
       "      <td>3521.77</td>\n",
       "      <td>1.0</td>\n",
       "    </tr>\n",
       "    <tr>\n",
       "      <th>beta[Temperature(C)]</th>\n",
       "      <td>268.59</td>\n",
       "      <td>8.72</td>\n",
       "      <td>253.30</td>\n",
       "      <td>286.34</td>\n",
       "      <td>0.17</td>\n",
       "      <td>0.12</td>\n",
       "      <td>2703.27</td>\n",
       "      <td>2837.93</td>\n",
       "      <td>1.0</td>\n",
       "    </tr>\n",
       "    <tr>\n",
       "      <th>beta[Humidity(%)]</th>\n",
       "      <td>-142.30</td>\n",
       "      <td>6.91</td>\n",
       "      <td>-155.49</td>\n",
       "      <td>-129.71</td>\n",
       "      <td>0.11</td>\n",
       "      <td>0.08</td>\n",
       "      <td>3853.26</td>\n",
       "      <td>3588.66</td>\n",
       "      <td>1.0</td>\n",
       "    </tr>\n",
       "    <tr>\n",
       "      <th>beta[Wind speed (m/s)]</th>\n",
       "      <td>15.36</td>\n",
       "      <td>5.25</td>\n",
       "      <td>5.75</td>\n",
       "      <td>25.29</td>\n",
       "      <td>0.07</td>\n",
       "      <td>0.05</td>\n",
       "      <td>6049.52</td>\n",
       "      <td>3561.35</td>\n",
       "      <td>1.0</td>\n",
       "    </tr>\n",
       "    <tr>\n",
       "      <th>beta[Visibility (10m)]</th>\n",
       "      <td>11.27</td>\n",
       "      <td>5.69</td>\n",
       "      <td>0.34</td>\n",
       "      <td>21.82</td>\n",
       "      <td>0.08</td>\n",
       "      <td>0.06</td>\n",
       "      <td>5005.27</td>\n",
       "      <td>3437.89</td>\n",
       "      <td>1.0</td>\n",
       "    </tr>\n",
       "    <tr>\n",
       "      <th>beta[Solar Radiation (MJ/m2)]</th>\n",
       "      <td>-40.39</td>\n",
       "      <td>5.93</td>\n",
       "      <td>-51.04</td>\n",
       "      <td>-29.13</td>\n",
       "      <td>0.10</td>\n",
       "      <td>0.07</td>\n",
       "      <td>3783.27</td>\n",
       "      <td>3251.02</td>\n",
       "      <td>1.0</td>\n",
       "    </tr>\n",
       "    <tr>\n",
       "      <th>beta[Rainfall(mm)]</th>\n",
       "      <td>-70.03</td>\n",
       "      <td>4.79</td>\n",
       "      <td>-78.49</td>\n",
       "      <td>-60.67</td>\n",
       "      <td>0.06</td>\n",
       "      <td>0.04</td>\n",
       "      <td>6774.88</td>\n",
       "      <td>3137.63</td>\n",
       "      <td>1.0</td>\n",
       "    </tr>\n",
       "    <tr>\n",
       "      <th>beta[Snowfall (cm)]</th>\n",
       "      <td>1.36</td>\n",
       "      <td>4.94</td>\n",
       "      <td>-7.67</td>\n",
       "      <td>10.88</td>\n",
       "      <td>0.06</td>\n",
       "      <td>0.07</td>\n",
       "      <td>6504.69</td>\n",
       "      <td>3357.17</td>\n",
       "      <td>1.0</td>\n",
       "    </tr>\n",
       "    <tr>\n",
       "      <th>beta[Seasons]</th>\n",
       "      <td>47.67</td>\n",
       "      <td>7.86</td>\n",
       "      <td>32.95</td>\n",
       "      <td>62.05</td>\n",
       "      <td>0.14</td>\n",
       "      <td>0.10</td>\n",
       "      <td>3379.23</td>\n",
       "      <td>3023.06</td>\n",
       "      <td>1.0</td>\n",
       "    </tr>\n",
       "    <tr>\n",
       "      <th>beta[Holiday Day]</th>\n",
       "      <td>-24.86</td>\n",
       "      <td>4.71</td>\n",
       "      <td>-33.55</td>\n",
       "      <td>-15.79</td>\n",
       "      <td>0.06</td>\n",
       "      <td>0.04</td>\n",
       "      <td>6770.97</td>\n",
       "      <td>3051.02</td>\n",
       "      <td>1.0</td>\n",
       "    </tr>\n",
       "    <tr>\n",
       "      <th>beta[Day]</th>\n",
       "      <td>-3.39</td>\n",
       "      <td>4.72</td>\n",
       "      <td>-12.28</td>\n",
       "      <td>5.33</td>\n",
       "      <td>0.06</td>\n",
       "      <td>0.06</td>\n",
       "      <td>7413.48</td>\n",
       "      <td>3314.59</td>\n",
       "      <td>1.0</td>\n",
       "    </tr>\n",
       "    <tr>\n",
       "      <th>beta[Month]</th>\n",
       "      <td>108.71</td>\n",
       "      <td>6.13</td>\n",
       "      <td>96.90</td>\n",
       "      <td>119.67</td>\n",
       "      <td>0.10</td>\n",
       "      <td>0.07</td>\n",
       "      <td>3557.57</td>\n",
       "      <td>3299.67</td>\n",
       "      <td>1.0</td>\n",
       "    </tr>\n",
       "    <tr>\n",
       "      <th>beta[Year]</th>\n",
       "      <td>86.44</td>\n",
       "      <td>6.25</td>\n",
       "      <td>75.02</td>\n",
       "      <td>98.63</td>\n",
       "      <td>0.09</td>\n",
       "      <td>0.07</td>\n",
       "      <td>4448.71</td>\n",
       "      <td>3298.90</td>\n",
       "      <td>1.0</td>\n",
       "    </tr>\n",
       "    <tr>\n",
       "      <th>sigma</th>\n",
       "      <td>432.02</td>\n",
       "      <td>3.08</td>\n",
       "      <td>426.18</td>\n",
       "      <td>437.71</td>\n",
       "      <td>0.04</td>\n",
       "      <td>0.03</td>\n",
       "      <td>6744.98</td>\n",
       "      <td>3350.65</td>\n",
       "      <td>1.0</td>\n",
       "    </tr>\n",
       "  </tbody>\n",
       "</table>\n",
       "</div>"
      ],
      "text/plain": [
       "                                 mean    sd  hdi_3%  hdi_97%  mcse_mean  \\\n",
       "alpha                          690.95  4.61  682.69   699.94       0.06   \n",
       "beta[Hour]                     196.86  4.89  187.64   205.87       0.07   \n",
       "beta[Temperature(C)]           268.59  8.72  253.30   286.34       0.17   \n",
       "beta[Humidity(%)]             -142.30  6.91 -155.49  -129.71       0.11   \n",
       "beta[Wind speed (m/s)]          15.36  5.25    5.75    25.29       0.07   \n",
       "beta[Visibility (10m)]          11.27  5.69    0.34    21.82       0.08   \n",
       "beta[Solar Radiation (MJ/m2)]  -40.39  5.93  -51.04   -29.13       0.10   \n",
       "beta[Rainfall(mm)]             -70.03  4.79  -78.49   -60.67       0.06   \n",
       "beta[Snowfall (cm)]              1.36  4.94   -7.67    10.88       0.06   \n",
       "beta[Seasons]                   47.67  7.86   32.95    62.05       0.14   \n",
       "beta[Holiday Day]              -24.86  4.71  -33.55   -15.79       0.06   \n",
       "beta[Day]                       -3.39  4.72  -12.28     5.33       0.06   \n",
       "beta[Month]                    108.71  6.13   96.90   119.67       0.10   \n",
       "beta[Year]                      86.44  6.25   75.02    98.63       0.09   \n",
       "sigma                          432.02  3.08  426.18   437.71       0.04   \n",
       "\n",
       "                               mcse_sd  ess_bulk  ess_tail  r_hat  \n",
       "alpha                             0.04   6457.29   3162.44    1.0  \n",
       "beta[Hour]                        0.05   5266.18   3521.77    1.0  \n",
       "beta[Temperature(C)]              0.12   2703.27   2837.93    1.0  \n",
       "beta[Humidity(%)]                 0.08   3853.26   3588.66    1.0  \n",
       "beta[Wind speed (m/s)]            0.05   6049.52   3561.35    1.0  \n",
       "beta[Visibility (10m)]            0.06   5005.27   3437.89    1.0  \n",
       "beta[Solar Radiation (MJ/m2)]     0.07   3783.27   3251.02    1.0  \n",
       "beta[Rainfall(mm)]                0.04   6774.88   3137.63    1.0  \n",
       "beta[Snowfall (cm)]               0.07   6504.69   3357.17    1.0  \n",
       "beta[Seasons]                     0.10   3379.23   3023.06    1.0  \n",
       "beta[Holiday Day]                 0.04   6770.97   3051.02    1.0  \n",
       "beta[Day]                         0.06   7413.48   3314.59    1.0  \n",
       "beta[Month]                       0.07   3557.57   3299.67    1.0  \n",
       "beta[Year]                        0.07   4448.71   3298.90    1.0  \n",
       "sigma                             0.03   6744.98   3350.65    1.0  "
      ]
     },
     "execution_count": 984,
     "metadata": {},
     "output_type": "execute_result"
    }
   ],
   "source": [
    "az.summary(idata, round_to=2)"
   ]
  },
  {
   "cell_type": "code",
   "execution_count": 985,
   "metadata": {},
   "outputs": [
    {
     "data": {
      "image/png": "[encoded data removed]",
      "text/plain": [
       "<Figure size 600x530 with 1 Axes>"
      ]
     },
     "metadata": {},
     "output_type": "display_data"
    }
   ],
   "source": [
    "az.plot_forest(idata, var_names=['beta'], combined=True);"
   ]
  }
 ],
 "metadata": {
  "kernelspec": {
   "display_name": "Python 3",
   "language": "python",
   "name": "python3"
  },
  "language_info": {
   "codemirror_mode": {
    "name": "ipython",
    "version": 3
   },
   "file_extension": ".py",
   "mimetype": "text/x-python",
   "name": "python",
   "nbconvert_exporter": "python",
   "pygments_lexer": "ipython3",
   "version": "3.11.6"
  }
 },
 "nbformat": 4,
 "nbformat_minor": 2
}
